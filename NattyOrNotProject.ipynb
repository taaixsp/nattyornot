{
  "nbformat": 4,
  "nbformat_minor": 0,
  "metadata": {
    "colab": {
      "provenance": [],
      "authorship_tag": "ABX9TyMZ67fVIl0Rs3MANQsRjcIz",
      "include_colab_link": true
    },
    "kernelspec": {
      "name": "python3",
      "display_name": "Python 3"
    },
    "language_info": {
      "name": "python"
    }
  },
  "cells": [
    {
      "cell_type": "markdown",
      "metadata": {
        "id": "view-in-github",
        "colab_type": "text"
      },
      "source": [
        "<a href=\"https://colab.research.google.com/github/taaixsp/nattyornot/blob/main/NattyOrNotProject.ipynb\" target=\"_parent\"><img src=\"https://colab.research.google.com/assets/colab-badge.svg\" alt=\"Open In Colab\"/></a>"
      ]
    },
    {
      "cell_type": "code",
      "source": [
        "import yfinance as yf\n",
        "import os\n",
        "\n",
        "# Download stock data\n",
        "stock_data = yf.download('AAPL', start='2024-01-01', end='2025-01-01')\n",
        "\n",
        "# Create the directory if it doesn't exist\n",
        "os.makedirs('data/raw', exist_ok=True)\n",
        "\n",
        "# Save the data to CSV\n",
        "stock_data.to_csv('data/raw/aapl_stock_data.csv')"
      ],
      "metadata": {
        "colab": {
          "base_uri": "https://localhost:8080/"
        },
        "id": "ZLGVFOb04MTj",
        "outputId": "4f4b7d07-676d-434e-d8ce-d6ed3e6f9982"
      },
      "execution_count": null,
      "outputs": [
        {
          "output_type": "stream",
          "name": "stderr",
          "text": [
            "\r[*********************100%***********************]  1 of 1 completed\n"
          ]
        }
      ]
    },
    {
      "cell_type": "code",
      "source": [
        "print(stock_data.head())"
      ],
      "metadata": {
        "colab": {
          "base_uri": "https://localhost:8080/"
        },
        "id": "SzI0xzubPVU5",
        "outputId": "c05de3d6-18f8-4a7f-aaec-f11c377d97c1"
      },
      "execution_count": null,
      "outputs": [
        {
          "output_type": "stream",
          "name": "stdout",
          "text": [
            "Price            Close        High         Low        Open    Volume\n",
            "Ticker            AAPL        AAPL        AAPL        AAPL      AAPL\n",
            "Date                                                                \n",
            "2024-01-02  184.532089  187.315382  182.792533  186.033072  82488700\n",
            "2024-01-03  183.150391  184.770668  182.335277  183.120571  58414500\n",
            "2024-01-04  180.824356  181.997307  179.800504  181.062914  71983600\n",
            "2024-01-05  180.098694  181.669266  179.094727  180.903872  62303300\n",
            "2024-01-08  184.452560  184.492330  180.416793  181.003268  59144500\n"
          ]
        }
      ]
    },
    {
      "cell_type": "code",
      "source": [
        "import yfinance as yf\n",
        "import os\n",
        "\n",
        "# Download stock data\n",
        "stock_data = yf.download('AAPL', start='2024-01-01', end='2025-01-01')\n",
        "\n",
        "# Create the directory if it doesn't exist\n",
        "os.makedirs('data/raw', exist_ok=True)\n",
        "\n",
        "# Save the data to CSV\n",
        "stock_data.to_csv('data/raw/aapl_stock_data.csv')"
      ],
      "metadata": {
        "colab": {
          "base_uri": "https://localhost:8080/"
        },
        "id": "b6zjjFHtNRkl",
        "outputId": "8ddc85f2-06ba-4cac-d6b9-dd333807f513"
      },
      "execution_count": null,
      "outputs": [
        {
          "output_type": "stream",
          "name": "stdout",
          "text": [
            "YF.download() has changed argument auto_adjust default to True\n"
          ]
        },
        {
          "output_type": "stream",
          "name": "stderr",
          "text": [
            "\r[*********************100%***********************]  1 of 1 completed\n"
          ]
        }
      ]
    },
    {
      "cell_type": "code",
      "source": [
        "import os\n",
        "\n",
        "file_path = 'data/raw/aapl_stock_data.csv'\n",
        "\n",
        "if os.path.exists(file_path):\n",
        "    print(f\"File found at: {file_path}\")\n",
        "else:\n",
        "    print(f\"File not found at: {file_path}\")\n",
        "    print(f\"Current working directory: {os.getcwd()}\")"
      ],
      "metadata": {
        "colab": {
          "base_uri": "https://localhost:8080/"
        },
        "id": "Q9SwfnpeNYR_",
        "outputId": "0837396a-85a3-4def-db7d-40884cc4be4a"
      },
      "execution_count": null,
      "outputs": [
        {
          "output_type": "stream",
          "name": "stdout",
          "text": [
            "File found at: data/raw/aapl_stock_data.csv\n"
          ]
        }
      ]
    },
    {
      "cell_type": "code",
      "source": [
        "import numpy as np\n",
        "import pandas as pd\n",
        "import os # Import the os module\n",
        "\n",
        "def generate_synthetic_data(length=1000):\n",
        "    np.random.seed(42)\n",
        "    steps = np.random.normal(loc=0, scale=1, size=length)\n",
        "    prices = np.cumsum(steps) + 100  # Starting price around $100\n",
        "    dates = pd.date_range(start='2024-01-01', periods=length)\n",
        "    return pd.DataFrame({'date': dates, 'price': prices})\n",
        "\n",
        "# Create the directory if it doesn't exist\n",
        "os.makedirs('data/raw', exist_ok=True) # This line creates the directory\n",
        "\n",
        "synthetic_data = generate_synthetic_data()\n",
        "synthetic_data.to_csv('data/raw/synthetic_stock_data.csv', index=False)"
      ],
      "metadata": {
        "id": "zWZH2VWtMdUk"
      },
      "execution_count": null,
      "outputs": []
    },
    {
      "cell_type": "code",
      "source": [
        "import pandas as pd\n",
        "\n",
        "def feature_engineering(df):\n",
        "    df['return'] = df['price'].pct_change()\n",
        "    df['rolling_mean'] = df['price'].rolling(window=5).mean()\n",
        "    df['rolling_std'] = df['price'].rolling(window=5).std()\n",
        "    df['volatility'] = df['return'].rolling(window=5).std()\n",
        "    df['momentum'] = df['price'] / df['price'].shift(5) - 1\n",
        "    df.dropna(inplace=True)\n",
        "    return df\n"
      ],
      "metadata": {
        "id": "4qB6Of_XMpwi"
      },
      "execution_count": null,
      "outputs": []
    },
    {
      "cell_type": "code",
      "source": [
        "print(synthetic_data.head())"
      ],
      "metadata": {
        "colab": {
          "base_uri": "https://localhost:8080/"
        },
        "id": "Gnwjqtc_Op8x",
        "outputId": "2b82ea25-bbd7-4616-fecc-04e16795b280"
      },
      "execution_count": null,
      "outputs": [
        {
          "output_type": "stream",
          "name": "stdout",
          "text": [
            "        date       price\n",
            "0 2024-01-01  100.496714\n",
            "1 2024-01-02  100.358450\n",
            "2 2024-01-03  101.006138\n",
            "3 2024-01-04  102.529168\n",
            "4 2024-01-05  102.295015\n"
          ]
        }
      ]
    },
    {
      "cell_type": "code",
      "source": [
        "from sklearn.model_selection import train_test_split\n",
        "from sklearn.ensemble import RandomForestClassifier\n",
        "from sklearn.metrics import classification_report\n",
        "import pandas as pd\n",
        "\n",
        "# Load real data from the saved CSV file\n",
        "real_data = pd.read_csv('data/raw/aapl_stock_data.csv', index_col=0)\n",
        "\n",
        "# Combine real and synthetic data\n",
        "real_data['label'] = 1\n",
        "synthetic_data['label'] = 0\n",
        "\n",
        "combined = pd.concat([real_data, synthetic_data]).sample(frac=1)\n"
      ],
      "metadata": {
        "id": "VbnW1o2lQz02"
      },
      "execution_count": null,
      "outputs": []
    },
    {
      "cell_type": "code",
      "source": [
        "print(combined.columns)"
      ],
      "metadata": {
        "colab": {
          "base_uri": "https://localhost:8080/"
        },
        "id": "kQhu1eYxSE_z",
        "outputId": "25aa503f-65f5-46e7-87a0-7ee7b44284be"
      },
      "execution_count": null,
      "outputs": [
        {
          "output_type": "stream",
          "name": "stdout",
          "text": [
            "Index(['Close', 'High', 'Low', 'Open', 'Volume', 'label', 'date', 'price'], dtype='object')\n"
          ]
        }
      ]
    },
    {
      "cell_type": "code",
      "source": [],
      "metadata": {
        "id": "GaDS2SjtT-Wv"
      },
      "execution_count": null,
      "outputs": []
    },
    {
      "cell_type": "code",
      "source": [
        "from sklearn.model_selection import train_test_split\n",
        "from sklearn.ensemble import RandomForestClassifier\n",
        "from sklearn.metrics import classification_report\n",
        "\n",
        "# Combine real and synthetic data\n",
        "real_data['label'] = 1\n",
        "synthetic_data['label'] = 0\n",
        "\n",
        "combined = pd.concat([real_data, synthetic_data]).sample(frac=1)\n",
        "X = combined.drop(columns=['label', 'date'])\n",
        "y = combined['label']\n",
        "\n",
        "X_train, X_test, y_train, y_test = train_test_split(X, y, test_size=0.2, random_state=42)"
      ],
      "metadata": {
        "id": "ocFC6nBzTEsT"
      },
      "execution_count": null,
      "outputs": []
    },
    {
      "cell_type": "code",
      "source": [
        "print(X.dtypes)  # See data types\n",
        "print(X.head())  # See sample values"
      ],
      "metadata": {
        "colab": {
          "base_uri": "https://localhost:8080/"
        },
        "id": "qUeCZfJLUHHv",
        "outputId": "220c6e16-91a4-4c9d-f282-a729a64593b9"
      },
      "execution_count": null,
      "outputs": [
        {
          "output_type": "stream",
          "name": "stdout",
          "text": [
            "Close      object\n",
            "High       object\n",
            "Low        object\n",
            "Open       object\n",
            "Volume     object\n",
            "price     float64\n",
            "dtype: object\n",
            "    Close High  Low Open Volume       price\n",
            "312   NaN  NaN  NaN  NaN    NaN  101.137856\n",
            "175   NaN  NaN  NaN  NaN    NaN   92.092520\n",
            "46    NaN  NaN  NaN  NaN    NaN   89.088604\n",
            "534   NaN  NaN  NaN  NaN    NaN   92.706698\n",
            "359   NaN  NaN  NaN  NaN    NaN  100.595256\n"
          ]
        }
      ]
    },
    {
      "cell_type": "code",
      "source": [
        "# Convert object columns to numeric, coercing errors to NaN\n",
        "X = combined.drop(columns=['label', 'date'], errors='ignore')\n",
        "X = X.apply(pd.to_numeric, errors='coerce')  # Turns non-numeric data into NaN\n",
        "\n",
        "# Check for NaN values\n",
        "print(X.isna().sum())  # See how many missing values each column has\n",
        "\n",
        "# Fill NaNs with 0 or use a different strategy if needed\n",
        "X.fillna(0, inplace=True)  # Or use X.fillna(X.mean()) if you prefer the mean\n"
      ],
      "metadata": {
        "colab": {
          "base_uri": "https://localhost:8080/"
        },
        "id": "jJAFRWZeUcSf",
        "outputId": "484cf103-51f9-4b7e-e3cc-55846a5e7e74"
      },
      "execution_count": null,
      "outputs": [
        {
          "output_type": "stream",
          "name": "stdout",
          "text": [
            "Close     1002\n",
            "High      1002\n",
            "Low       1002\n",
            "Open      1002\n",
            "Volume    1002\n",
            "price      254\n",
            "dtype: int64\n"
          ]
        }
      ]
    },
    {
      "cell_type": "code",
      "source": [
        "X.fillna(method='ffill', inplace=True)"
      ],
      "metadata": {
        "colab": {
          "base_uri": "https://localhost:8080/"
        },
        "id": "yjJAT9_hU1s5",
        "outputId": "be43c3d0-4a84-474f-d3fe-6fe662406a4c"
      },
      "execution_count": null,
      "outputs": [
        {
          "output_type": "stream",
          "name": "stderr",
          "text": [
            "<ipython-input-35-ab58aef7ff54>:1: FutureWarning: DataFrame.fillna with 'method' is deprecated and will raise in a future version. Use obj.ffill() or obj.bfill() instead.\n",
            "  X.fillna(method='ffill', inplace=True)\n"
          ]
        }
      ]
    },
    {
      "cell_type": "code",
      "source": [
        "from sklearn.model_selection import train_test_split\n",
        "from sklearn.ensemble import RandomForestClassifier\n",
        "from sklearn.metrics import classification_report\n",
        "import pandas as pd\n",
        "\n",
        "# Combine real and synthetic data\n",
        "real_data['label'] = 1\n",
        "synthetic_data['label'] = 0\n",
        "\n",
        "combined = pd.concat([real_data, synthetic_data]).sample(frac=1)\n",
        "\n",
        "# Drop non-numeric columns\n",
        "X = combined.drop(columns=['label', 'date'], errors='ignore')\n",
        "\n",
        "# Convert object columns to numeric, coercing errors to NaN\n",
        "X = X.apply(pd.to_numeric, errors='coerce')\n",
        "\n",
        "# Forward fill missing values\n",
        "X.fillna(method='ffill', inplace=True)\n",
        "\n",
        "# Ensure no remaining NaNs after forward fill (optional check)\n",
        "print(X.isna().sum().sum())  # Should print 0 if all NaNs were filled\n",
        "\n",
        "# Target variable\n",
        "y = combined['label']\n",
        "\n",
        "# Train/test split\n",
        "X_train, X_test, y_train, y_test = train_test_split(X, y, test_size=0.2, random_state=42)\n",
        "\n",
        "# Model training\n",
        "model = RandomForestClassifier(n_estimators=100, random_state=42)\n",
        "model.fit(X_train, y_train)\n",
        "y_pred = model.predict(X_test)\n",
        "\n",
        "# Classification report\n",
        "print(classification_report(y_test, y_pred))\n"
      ],
      "metadata": {
        "colab": {
          "base_uri": "https://localhost:8080/"
        },
        "id": "XDyBw-KXVTa9",
        "outputId": "f7392dc7-4f75-4bd4-80ad-a186909066fb"
      },
      "execution_count": null,
      "outputs": [
        {
          "output_type": "stream",
          "name": "stderr",
          "text": [
            "<ipython-input-37-93ce82aa0254>:19: FutureWarning: DataFrame.fillna with 'method' is deprecated and will raise in a future version. Use obj.ffill() or obj.bfill() instead.\n",
            "  X.fillna(method='ffill', inplace=True)\n"
          ]
        },
        {
          "output_type": "stream",
          "name": "stdout",
          "text": [
            "5\n",
            "              precision    recall  f1-score   support\n",
            "\n",
            "           0       0.78      0.89      0.83       200\n",
            "           1       0.00      0.00      0.00        51\n",
            "\n",
            "    accuracy                           0.71       251\n",
            "   macro avg       0.39      0.45      0.41       251\n",
            "weighted avg       0.62      0.71      0.66       251\n",
            "\n"
          ]
        }
      ]
    },
    {
      "cell_type": "code",
      "source": [
        "import seaborn as sns\n",
        "import matplotlib.pyplot as plt\n",
        "from sklearn.metrics import confusion_matrix\n",
        "\n",
        "cm = confusion_matrix(y_test, y_pred)\n",
        "sns.heatmap(cm, annot=True, fmt='d')\n",
        "plt.xlabel('Predicted')\n",
        "plt.ylabel('Actual')\n",
        "plt.show()"
      ],
      "metadata": {
        "colab": {
          "base_uri": "https://localhost:8080/",
          "height": 449
        },
        "id": "iSWRLCOwViPx",
        "outputId": "625a5a32-d43f-4981-ae84-d355b395f58f"
      },
      "execution_count": null,
      "outputs": [
        {
          "output_type": "display_data",
          "data": {
            "text/plain": [
              "<Figure size 640x480 with 2 Axes>"
            ],
            "image/png": "[encoded data removed]"
          },
          "metadata": {}
        }
      ]
    },
    {
      "cell_type": "code",
      "source": [
        "print(y.value_counts())  # Check the balance of labels"
      ],
      "metadata": {
        "colab": {
          "base_uri": "https://localhost:8080/"
        },
        "id": "IUtJniQPWNr1",
        "outputId": "9f554ec8-7b91-4fe6-d64b-7e36542c118d"
      },
      "execution_count": null,
      "outputs": [
        {
          "output_type": "stream",
          "name": "stdout",
          "text": [
            "label\n",
            "0    1000\n",
            "1     254\n",
            "Name: count, dtype: int64\n"
          ]
        }
      ]
    },
    {
      "cell_type": "code",
      "source": [
        "model = RandomForestClassifier(n_estimators=100,\n",
        "                               random_state=42,\n",
        "                               class_weight='balanced')"
      ],
      "metadata": {
        "id": "eEUjVfuSWoso"
      },
      "execution_count": null,
      "outputs": []
    },
    {
      "cell_type": "code",
      "source": [
        "from sklearn.model_selection import train_test_split\n",
        "from sklearn.ensemble import RandomForestClassifier\n",
        "from sklearn.metrics import classification_report\n",
        "import pandas as pd\n",
        "\n",
        "# Combine real and synthetic data\n",
        "real_data['label'] = 1\n",
        "synthetic_data['label'] = 0\n",
        "\n",
        "combined = pd.concat([real_data, synthetic_data]).sample(frac=1)\n",
        "\n",
        "# Prepare features and target\n",
        "X = combined.drop(columns=['label', 'date'], errors='ignore')\n",
        "\n",
        "# Convert object columns to numeric, coercing errors to NaN and forward fill\n",
        "X = X.apply(pd.to_numeric, errors='coerce').fillna(method='ffill')\n",
        "\n",
        "y = combined['label']\n",
        "\n",
        "# Train/test split\n",
        "X_train, X_test, y_train, y_test = train_test_split(X, y, test_size=0.2, random_state=42)\n",
        "\n",
        "# Train model with class weighting\n",
        "model = RandomForestClassifier(n_estimators=100,\n",
        "                               random_state=42,\n",
        "                               class_weight='balanced')  # <== Here’s the magic\n",
        "model.fit(X_train, y_train)\n",
        "y_pred = model.predict(X_test)\n",
        "\n",
        "# Classification report\n",
        "print(classification_report(y_test, y_pred))\n"
      ],
      "metadata": {
        "colab": {
          "base_uri": "https://localhost:8080/"
        },
        "id": "Ag5dVh6kW0Bp",
        "outputId": "2cbc3726-f786-4984-dc1c-699b708b9a15"
      },
      "execution_count": null,
      "outputs": [
        {
          "output_type": "stream",
          "name": "stderr",
          "text": [
            "<ipython-input-42-a658f4f33b67>:16: FutureWarning: DataFrame.fillna with 'method' is deprecated and will raise in a future version. Use obj.ffill() or obj.bfill() instead.\n",
            "  X = X.apply(pd.to_numeric, errors='coerce').fillna(method='ffill')\n"
          ]
        },
        {
          "output_type": "stream",
          "name": "stdout",
          "text": [
            "              precision    recall  f1-score   support\n",
            "\n",
            "           0       0.80      0.87      0.83       205\n",
            "           1       0.07      0.04      0.05        46\n",
            "\n",
            "    accuracy                           0.72       251\n",
            "   macro avg       0.44      0.46      0.44       251\n",
            "weighted avg       0.67      0.72      0.69       251\n",
            "\n"
          ]
        }
      ]
    },
    {
      "cell_type": "code",
      "source": [
        "model = RandomForestClassifier(n_estimators=100,\n",
        "                               random_state=42,\n",
        "                               class_weight={0: 1, 1: 10})  # Increase weight for class 1\n",
        "model.fit(X_train, y_train)\n",
        "y_pred = model.predict(X_test)\n",
        "\n",
        "# Classification report\n",
        "print(classification_report(y_test, y_pred))"
      ],
      "metadata": {
        "colab": {
          "base_uri": "https://localhost:8080/"
        },
        "id": "z5oShzryX_2X",
        "outputId": "8bbe927e-adb8-46e4-f255-3ac59afeb62c"
      },
      "execution_count": null,
      "outputs": [
        {
          "output_type": "stream",
          "name": "stdout",
          "text": [
            "              precision    recall  f1-score   support\n",
            "\n",
            "           0       0.80      0.87      0.84       205\n",
            "           1       0.07      0.04      0.05        46\n",
            "\n",
            "    accuracy                           0.72       251\n",
            "   macro avg       0.44      0.46      0.45       251\n",
            "weighted avg       0.67      0.72      0.69       251\n",
            "\n"
          ]
        }
      ]
    },
    {
      "cell_type": "code",
      "source": [
        "pip install xgboost"
      ],
      "metadata": {
        "colab": {
          "base_uri": "https://localhost:8080/"
        },
        "id": "WYu5n_LeYWQW",
        "outputId": "535bb4db-9d01-4c66-d497-c34c275c1aa1"
      },
      "execution_count": null,
      "outputs": [
        {
          "output_type": "stream",
          "name": "stdout",
          "text": [
            "Requirement already satisfied: xgboost in /usr/local/lib/python3.11/dist-packages (2.1.4)\n",
            "Requirement already satisfied: numpy in /usr/local/lib/python3.11/dist-packages (from xgboost) (1.26.4)\n",
            "Requirement already satisfied: nvidia-nccl-cu12 in /usr/local/lib/python3.11/dist-packages (from xgboost) (2.21.5)\n",
            "Requirement already satisfied: scipy in /usr/local/lib/python3.11/dist-packages (from xgboost) (1.14.1)\n"
          ]
        }
      ]
    },
    {
      "cell_type": "code",
      "source": [
        "import xgboost as xgb\n",
        "from sklearn.metrics import classification_report\n",
        "from sklearn.model_selection import train_test_split\n",
        "\n",
        "# Prepare your data (ensure X_train, X_test, y_train, y_test are defined)\n",
        "X_train, X_test, y_train, y_test = train_test_split(X, y, test_size=0.2, random_state=42)\n",
        "\n",
        "# Train an XGBoost model with class weight handling\n",
        "model = xgb.XGBClassifier(\n",
        "    n_estimators=100,\n",
        "    random_state=42,\n",
        "    scale_pos_weight=10,  # Increase weight for the minority class (class 1)\n",
        "    eval_metric='logloss'\n",
        ")\n",
        "\n",
        "model.fit(X_train, y_train)\n",
        "\n",
        "# Predict and evaluate\n",
        "y_pred = model.predict(X_test)\n",
        "\n",
        "# Print the classification report\n",
        "print(classification_report(y_test, y_pred))\n"
      ],
      "metadata": {
        "colab": {
          "base_uri": "https://localhost:8080/"
        },
        "id": "EPvCFIQCYkiU",
        "outputId": "47b8a0d3-dace-4f28-d6c2-8bbf9b4d692f"
      },
      "execution_count": null,
      "outputs": [
        {
          "output_type": "stream",
          "name": "stdout",
          "text": [
            "              precision    recall  f1-score   support\n",
            "\n",
            "           0       0.81      0.76      0.78       205\n",
            "           1       0.17      0.22      0.19        46\n",
            "\n",
            "    accuracy                           0.66       251\n",
            "   macro avg       0.49      0.49      0.49       251\n",
            "weighted avg       0.69      0.66      0.67       251\n",
            "\n"
          ]
        }
      ]
    },
    {
      "cell_type": "code",
      "source": [
        "from sklearn.model_selection import GridSearchCV\n",
        "\n",
        "param_grid = {\n",
        "    'n_estimators': [100, 200],\n",
        "    'max_depth': [3, 5, 7],\n",
        "    'learning_rate': [0.01, 0.05, 0.1],\n",
        "    'scale_pos_weight': [10, 20, 50]\n",
        "}\n",
        "\n",
        "grid_search = GridSearchCV(xgb.XGBClassifier(random_state=42, eval_metric='logloss'),\n",
        "                           param_grid, cv=3, scoring='f1', verbose=1)\n",
        "\n",
        "grid_search.fit(X_train, y_train)\n",
        "print(grid_search.best_params_)\n",
        "\n",
        "best_model = grid_search.best_estimator_\n",
        "y_pred = best_model.predict(X_test)\n",
        "print(classification_report(y_test, y_pred))"
      ],
      "metadata": {
        "colab": {
          "base_uri": "https://localhost:8080/"
        },
        "id": "3Eq44ekYZWLE",
        "outputId": "86655a8a-2b72-450f-aeeb-8698c271fdcc"
      },
      "execution_count": null,
      "outputs": [
        {
          "output_type": "stream",
          "name": "stdout",
          "text": [
            "Fitting 3 folds for each of 54 candidates, totalling 162 fits\n",
            "{'learning_rate': 0.01, 'max_depth': 5, 'n_estimators': 100, 'scale_pos_weight': 10}\n",
            "              precision    recall  f1-score   support\n",
            "\n",
            "           0       0.92      0.05      0.10       205\n",
            "           1       0.19      0.98      0.32        46\n",
            "\n",
            "    accuracy                           0.22       251\n",
            "   macro avg       0.55      0.52      0.21       251\n",
            "weighted avg       0.78      0.22      0.14       251\n",
            "\n"
          ]
        }
      ]
    },
    {
      "cell_type": "code",
      "source": [
        "model = xgb.XGBClassifier(\n",
        "    n_estimators=100,\n",
        "    random_state=42,\n",
        "    scale_pos_weight=5,  # Reduce weight for class 1\n",
        "    eval_metric='logloss'\n",
        ")\n"
      ],
      "metadata": {
        "id": "a64N69kjaCmE"
      },
      "execution_count": null,
      "outputs": []
    },
    {
      "cell_type": "code",
      "source": [
        "y_pred_prob = best_model.predict_proba(X_test)[:, 1]\n",
        "y_pred = (y_pred_prob > 0.3).astype(int)  # Adjust threshold to 0.3 or other values\n",
        "print(classification_report(y_test, y_pred))\n"
      ],
      "metadata": {
        "colab": {
          "base_uri": "https://localhost:8080/"
        },
        "id": "DRTRE5EiaGwC",
        "outputId": "6f0f0b6b-13f9-4f41-81d8-f17addd799f6"
      },
      "execution_count": null,
      "outputs": [
        {
          "output_type": "stream",
          "name": "stdout",
          "text": [
            "              precision    recall  f1-score   support\n",
            "\n",
            "           0       0.00      0.00      0.00       205\n",
            "           1       0.18      1.00      0.31        46\n",
            "\n",
            "    accuracy                           0.18       251\n",
            "   macro avg       0.09      0.50      0.15       251\n",
            "weighted avg       0.03      0.18      0.06       251\n",
            "\n"
          ]
        },
        {
          "output_type": "stream",
          "name": "stderr",
          "text": [
            "/usr/local/lib/python3.11/dist-packages/sklearn/metrics/_classification.py:1565: UndefinedMetricWarning: Precision is ill-defined and being set to 0.0 in labels with no predicted samples. Use `zero_division` parameter to control this behavior.\n",
            "  _warn_prf(average, modifier, f\"{metric.capitalize()} is\", len(result))\n",
            "/usr/local/lib/python3.11/dist-packages/sklearn/metrics/_classification.py:1565: UndefinedMetricWarning: Precision is ill-defined and being set to 0.0 in labels with no predicted samples. Use `zero_division` parameter to control this behavior.\n",
            "  _warn_prf(average, modifier, f\"{metric.capitalize()} is\", len(result))\n",
            "/usr/local/lib/python3.11/dist-packages/sklearn/metrics/_classification.py:1565: UndefinedMetricWarning: Precision is ill-defined and being set to 0.0 in labels with no predicted samples. Use `zero_division` parameter to control this behavior.\n",
            "  _warn_prf(average, modifier, f\"{metric.capitalize()} is\", len(result))\n"
          ]
        }
      ]
    },
    {
      "cell_type": "code",
      "source": [
        "model = xgb.XGBClassifier(\n",
        "    n_estimators=100,\n",
        "    random_state=42,\n",
        "    scale_pos_weight=2,  # Reduce the weight for class 1 further\n",
        "    eval_metric='logloss'\n",
        ")\n",
        "model.fit(X_train, y_train)\n",
        "y_pred = model.predict(X_test)\n",
        "\n",
        "# Print classification report\n",
        "print(classification_report(y_test, y_pred))"
      ],
      "metadata": {
        "colab": {
          "base_uri": "https://localhost:8080/"
        },
        "id": "lcC6Yu17aWJ_",
        "outputId": "62d76660-9770-4829-f381-a0ac1a29eec0"
      },
      "execution_count": null,
      "outputs": [
        {
          "output_type": "stream",
          "name": "stdout",
          "text": [
            "              precision    recall  f1-score   support\n",
            "\n",
            "           0       0.81      0.82      0.82       205\n",
            "           1       0.16      0.15      0.16        46\n",
            "\n",
            "    accuracy                           0.70       251\n",
            "   macro avg       0.49      0.49      0.49       251\n",
            "weighted avg       0.69      0.70      0.70       251\n",
            "\n"
          ]
        }
      ]
    },
    {
      "cell_type": "code",
      "source": [
        "y_pred_prob = model.predict_proba(X_test)[:, 1]\n",
        "y_pred = (y_pred_prob > 0.2).astype(int)  # Try lowering the threshold to 0.2 or adjusting it\n",
        "\n",
        "print(classification_report(y_test, y_pred))"
      ],
      "metadata": {
        "colab": {
          "base_uri": "https://localhost:8080/"
        },
        "id": "MKqjU6jwahpA",
        "outputId": "809a2315-8641-4337-ce80-3f79d8faa346"
      },
      "execution_count": null,
      "outputs": [
        {
          "output_type": "stream",
          "name": "stdout",
          "text": [
            "              precision    recall  f1-score   support\n",
            "\n",
            "           0       0.81      0.62      0.70       205\n",
            "           1       0.17      0.35      0.23        46\n",
            "\n",
            "    accuracy                           0.57       251\n",
            "   macro avg       0.49      0.48      0.47       251\n",
            "weighted avg       0.69      0.57      0.61       251\n",
            "\n"
          ]
        }
      ]
    },
    {
      "cell_type": "code",
      "source": [
        "param_grid = {\n",
        "    'n_estimators': [100, 200],\n",
        "    'max_depth': [3, 5, 7],\n",
        "    'scale_pos_weight': [1, 2, 3, 5]\n",
        "}\n",
        "\n",
        "grid_search = GridSearchCV(xgb.XGBClassifier(random_state=42, eval_metric='logloss'),\n",
        "                           param_grid, cv=3, scoring='f1', verbose=1)\n",
        "\n",
        "grid_search.fit(X_train, y_train)\n",
        "print(grid_search.best_params_)\n",
        "\n",
        "best_model = grid_search.best_estimator_\n",
        "y_pred = best_model.predict(X_test)\n",
        "print(classification_report(y_test, y_pred))\n"
      ],
      "metadata": {
        "colab": {
          "base_uri": "https://localhost:8080/"
        },
        "id": "9UaJ4l9bajTn",
        "outputId": "73d42002-a792-4ba6-ed0b-cbcc6cab1d0b"
      },
      "execution_count": null,
      "outputs": [
        {
          "output_type": "stream",
          "name": "stdout",
          "text": [
            "Fitting 3 folds for each of 24 candidates, totalling 72 fits\n",
            "{'max_depth': 3, 'n_estimators': 100, 'scale_pos_weight': 5}\n",
            "              precision    recall  f1-score   support\n",
            "\n",
            "           0       0.84      0.67      0.74       205\n",
            "           1       0.22      0.41      0.29        46\n",
            "\n",
            "    accuracy                           0.62       251\n",
            "   macro avg       0.53      0.54      0.51       251\n",
            "weighted avg       0.72      0.62      0.66       251\n",
            "\n"
          ]
        }
      ]
    },
    {
      "cell_type": "code",
      "source": [
        "# Drop rows with missing values\n",
        "X_train_clean = X_train.dropna()\n",
        "y_train_clean = y_train[X_train_clean.index]  # Keep the corresponding labels\n",
        "\n",
        "# 1. Polynomial Features\n",
        "poly = PolynomialFeatures(degree=2, interaction_only=True, include_bias=False)\n",
        "X_poly = poly.fit_transform(X_train_clean)\n",
        "\n",
        "# 2. Standardization (scaling the numerical features)\n",
        "scaler = StandardScaler()\n",
        "X_scaled = scaler.fit_transform(X_poly)\n",
        "\n",
        "# Train-test split for scaled features (use the same for testing)\n",
        "X_train_scaled, X_test_scaled, y_train, y_test = train_test_split(X_scaled, y_train_clean, test_size=0.2, random_state=42)\n",
        "\n",
        "# 3. Train XGBoost model with class balancing\n",
        "model = xgb.XGBClassifier(\n",
        "    n_estimators=100,              # Number of trees\n",
        "    max_depth=3,                   # Depth of trees\n",
        "    scale_pos_weight=5,            # Adjust for class imbalance\n",
        "    random_state=42,\n",
        "    use_label_encoder=False,       # To avoid warnings\n",
        "    eval_metric='logloss'          # Evaluation metric\n",
        ")\n",
        "\n",
        "# Train the model\n",
        "model.fit(X_train_scaled, y_train)\n",
        "\n",
        "# Make predictions\n",
        "y_pred = model.predict(X_test_scaled)\n",
        "\n",
        "# Print classification report\n",
        "print(classification_report(y_test, y_pred))\n"
      ],
      "metadata": {
        "colab": {
          "base_uri": "https://localhost:8080/"
        },
        "id": "M6rp3zF6cl7K",
        "outputId": "f031d5cc-7c87-41b0-d75b-c3d7322a861e"
      },
      "execution_count": null,
      "outputs": [
        {
          "output_type": "stream",
          "name": "stdout",
          "text": [
            "              precision    recall  f1-score   support\n",
            "\n",
            "           0       0.72      0.72      0.72       151\n",
            "           1       0.14      0.14      0.14        49\n",
            "\n",
            "    accuracy                           0.58       200\n",
            "   macro avg       0.43      0.43      0.43       200\n",
            "weighted avg       0.58      0.58      0.58       200\n",
            "\n"
          ]
        },
        {
          "output_type": "stream",
          "name": "stderr",
          "text": [
            "/usr/local/lib/python3.11/dist-packages/xgboost/core.py:158: UserWarning: [22:20:38] WARNING: /workspace/src/learner.cc:740: \n",
            "Parameters: { \"use_label_encoder\" } are not used.\n",
            "\n",
            "  warnings.warn(smsg, UserWarning)\n"
          ]
        }
      ]
    },
    {
      "cell_type": "code",
      "source": [
        "X['log_return'] = np.log(X['Close'] / X['Close'].shift(1))"
      ],
      "metadata": {
        "id": "Rirh-wZjdkwA"
      },
      "execution_count": null,
      "outputs": []
    },
    {
      "cell_type": "code",
      "source": [
        "# 50-day Simple Moving Average (SMA)\n",
        "X['SMA_50'] = X['Close'].rolling(window=50).mean()\n",
        "\n",
        "# Exponential Moving Average (EMA)\n",
        "X['EMA_50'] = X['Close'].ewm(span=50, adjust=False).mean()"
      ],
      "metadata": {
        "id": "M4vqKSdDdqgs"
      },
      "execution_count": null,
      "outputs": []
    },
    {
      "cell_type": "code",
      "source": [
        "print(classification_report(y_test, y_pred))"
      ],
      "metadata": {
        "colab": {
          "base_uri": "https://localhost:8080/"
        },
        "id": "7wCZ0mlvdy_x",
        "outputId": "aa15c678-a289-48c1-f612-3d4c8fff7fde"
      },
      "execution_count": null,
      "outputs": [
        {
          "output_type": "stream",
          "name": "stdout",
          "text": [
            "              precision    recall  f1-score   support\n",
            "\n",
            "           0       0.72      0.72      0.72       151\n",
            "           1       0.14      0.14      0.14        49\n",
            "\n",
            "    accuracy                           0.58       200\n",
            "   macro avg       0.43      0.43      0.43       200\n",
            "weighted avg       0.58      0.58      0.58       200\n",
            "\n"
          ]
        }
      ]
    },
    {
      "cell_type": "code",
      "source": [
        "model = xgb.XGBClassifier(scale_pos_weight=200)  # or try experimenting with different values"
      ],
      "metadata": {
        "id": "w6J-rKtkeADs"
      },
      "execution_count": null,
      "outputs": []
    },
    {
      "cell_type": "code",
      "source": [
        "print(X_train.shape)\n",
        "print(y_train.shape)"
      ],
      "metadata": {
        "colab": {
          "base_uri": "https://localhost:8080/"
        },
        "id": "Pu87GDfLeeiH",
        "outputId": "72e4d620-cf99-4246-feb7-cf1278193fa4"
      },
      "execution_count": null,
      "outputs": [
        {
          "output_type": "stream",
          "name": "stdout",
          "text": [
            "(1003, 6)\n",
            "(797,)\n"
          ]
        }
      ]
    },
    {
      "cell_type": "code",
      "source": [
        "from sklearn.model_selection import train_test_split\n",
        "\n",
        "# Ensure that X and y are properly defined before splitting\n",
        "X = combined.drop(columns=['label', 'date'], errors='ignore')\n",
        "y = combined['label']\n",
        "\n",
        "# Split the data correctly (features and labels)\n",
        "X_train, X_test, y_train, y_test = train_test_split(X, y, test_size=0.2, random_state=42)\n",
        "\n",
        "# Check the shapes again\n",
        "print(X_train.shape)  # Should be (1003, 6)\n",
        "print(y_train.shape)  # Should be (1003,)"
      ],
      "metadata": {
        "colab": {
          "base_uri": "https://localhost:8080/"
        },
        "id": "ZRooPbpaevJP",
        "outputId": "770a492d-352e-4e61-92af-c616f7961e5c"
      },
      "execution_count": null,
      "outputs": [
        {
          "output_type": "stream",
          "name": "stdout",
          "text": [
            "(1003, 6)\n",
            "(1003,)\n"
          ]
        }
      ]
    },
    {
      "cell_type": "code",
      "source": [
        "import pandas as pd\n",
        "\n",
        "# Convert all columns to numeric, coercing errors (invalid data) into NaN\n",
        "X_train = X_train.apply(pd.to_numeric, errors='coerce')\n",
        "X_test = X_test.apply(pd.to_numeric, errors='coerce')\n",
        "\n",
        "# Check for missing values and fill them (or drop rows with NaN values)\n",
        "X_train.fillna(X_train.mean(), inplace=True)  # Impute missing values with the column mean\n",
        "X_test.fillna(X_test.mean(), inplace=True)\n",
        "\n",
        "# Verify the conversion and check for NaN values\n",
        "print(X_train.dtypes)\n",
        "print(X_train.isnull().sum())  # Ensure there are no missing values\n"
      ],
      "metadata": {
        "colab": {
          "base_uri": "https://localhost:8080/"
        },
        "id": "ErV1mp6sfZuw",
        "outputId": "cd58edca-3d1c-4d19-c81b-607548f9d32e"
      },
      "execution_count": null,
      "outputs": [
        {
          "output_type": "stream",
          "name": "stdout",
          "text": [
            "Close     float64\n",
            "High      float64\n",
            "Low       float64\n",
            "Open      float64\n",
            "Volume    float64\n",
            "price     float64\n",
            "dtype: object\n",
            "Close     0\n",
            "High      0\n",
            "Low       0\n",
            "Open      0\n",
            "Volume    0\n",
            "price     0\n",
            "dtype: int64\n"
          ]
        }
      ]
    },
    {
      "cell_type": "code",
      "source": [
        "# Define model and parameter grid\n",
        "model = XGBClassifier()\n",
        "\n",
        "param_grid = {\n",
        "    'n_estimators': [100, 200],\n",
        "    'max_depth': [3, 5],\n",
        "    'learning_rate': [0.01, 0.1],\n",
        "    'scale_pos_weight': [1, 2, 5, 10]\n",
        "}\n",
        "\n",
        "# Initialize grid search with cross-validation\n",
        "grid_search = GridSearchCV(estimator=model, param_grid=param_grid, cv=3, n_jobs=-1, verbose=2)\n",
        "\n",
        "# Fit the grid search to the data\n",
        "grid_search.fit(X_train, y_train)\n",
        "\n",
        "# Print the best parameters and best score\n",
        "print(\"Best parameters:\", grid_search.best_params_)\n",
        "print(\"Best score:\", grid_search.best_score_)\n"
      ],
      "metadata": {
        "colab": {
          "base_uri": "https://localhost:8080/"
        },
        "id": "FqfpWYbhfe5h",
        "outputId": "f0f992c2-3450-400c-c315-6be4a4a6da02"
      },
      "execution_count": null,
      "outputs": [
        {
          "output_type": "stream",
          "name": "stdout",
          "text": [
            "Fitting 3 folds for each of 32 candidates, totalling 96 fits\n",
            "Best parameters: {'learning_rate': 0.01, 'max_depth': 3, 'n_estimators': 100, 'scale_pos_weight': 10}\n",
            "Best score: 0.999001996007984\n"
          ]
        }
      ]
    },
    {
      "cell_type": "code",
      "source": [
        "# Using the best parameters to train the final model\n",
        "best_model = grid_search.best_estimator_\n",
        "\n",
        "# Fit the model on the training data\n",
        "best_model.fit(X_train, y_train)\n",
        "\n",
        "# Evaluate the model on the test data\n",
        "y_pred = best_model.predict(X_test)\n",
        "\n",
        "# Calculate performance metrics\n",
        "from sklearn.metrics import classification_report, confusion_matrix\n",
        "\n",
        "# Print classification report\n",
        "print(\"Classification Report:\\n\", classification_report(y_test, y_pred))\n",
        "\n",
        "# Print confusion matrix\n",
        "print(\"Confusion Matrix:\\n\", confusion_matrix(y_test, y_pred))"
      ],
      "metadata": {
        "colab": {
          "base_uri": "https://localhost:8080/"
        },
        "id": "zYbyN90rfwJb",
        "outputId": "6cda2dbd-3b5a-4b81-9596-b90a06ca74e6"
      },
      "execution_count": null,
      "outputs": [
        {
          "output_type": "stream",
          "name": "stdout",
          "text": [
            "Classification Report:\n",
            "               precision    recall  f1-score   support\n",
            "\n",
            "           0       0.82      1.00      0.90       205\n",
            "           1       0.00      0.00      0.00        46\n",
            "\n",
            "    accuracy                           0.81       251\n",
            "   macro avg       0.41      0.50      0.45       251\n",
            "weighted avg       0.67      0.81      0.73       251\n",
            "\n",
            "Confusion Matrix:\n",
            " [[204   1]\n",
            " [ 46   0]]\n"
          ]
        }
      ]
    },
    {
      "cell_type": "code",
      "source": [
        "model = XGBClassifier(scale_pos_weight=10)"
      ],
      "metadata": {
        "id": "cQ4Y-pBmgN8_"
      },
      "execution_count": null,
      "outputs": []
    },
    {
      "cell_type": "code",
      "source": [
        "scale_pos_weight = len(y_train) / (2 * sum(y_train == 1))"
      ],
      "metadata": {
        "id": "EM-vP3jfgRAg"
      },
      "execution_count": null,
      "outputs": []
    },
    {
      "cell_type": "code",
      "source": [
        "# Calculate the number of samples in each class\n",
        "num_negative_class = sum(y_train == 0)\n",
        "num_positive_class = sum(y_train == 1)\n",
        "\n",
        "# Calculate scale_pos_weight\n",
        "scale_pos_weight = num_negative_class / num_positive_class\n",
        "print(\"scale_pos_weight:\", scale_pos_weight)\n"
      ],
      "metadata": {
        "colab": {
          "base_uri": "https://localhost:8080/"
        },
        "id": "7GX_Y2BhgZmj",
        "outputId": "911a591b-0c89-4537-c040-002884d05c01"
      },
      "execution_count": null,
      "outputs": [
        {
          "output_type": "stream",
          "name": "stdout",
          "text": [
            "scale_pos_weight: 3.8221153846153846\n"
          ]
        }
      ]
    },
    {
      "cell_type": "code",
      "source": [
        "from xgboost import XGBClassifier\n",
        "\n",
        "# Define the XGBoost model with scale_pos_weight\n",
        "model = XGBClassifier(scale_pos_weight=scale_pos_weight, random_state=42)\n",
        "\n",
        "# Fit the model on the training data\n",
        "model.fit(X_train, y_train)"
      ],
      "metadata": {
        "colab": {
          "base_uri": "https://localhost:8080/",
          "height": 254
        },
        "id": "iFjLleDdgh9I",
        "outputId": "7ce48002-42ad-4275-b716-6e1169ccca9b"
      },
      "execution_count": null,
      "outputs": [
        {
          "output_type": "execute_result",
          "data": {
            "text/plain": [
              "XGBClassifier(base_score=None, booster=None, callbacks=None,\n",
              "              colsample_bylevel=None, colsample_bynode=None,\n",
              "              colsample_bytree=None, device=None, early_stopping_rounds=None,\n",
              "              enable_categorical=False, eval_metric=None, feature_types=None,\n",
              "              gamma=None, grow_policy=None, importance_type=None,\n",
              "              interaction_constraints=None, learning_rate=None, max_bin=None,\n",
              "              max_cat_threshold=None, max_cat_to_onehot=None,\n",
              "              max_delta_step=None, max_depth=None, max_leaves=None,\n",
              "              min_child_weight=None, missing=nan, monotone_constraints=None,\n",
              "              multi_strategy=None, n_estimators=None, n_jobs=None,\n",
              "              num_parallel_tree=None, random_state=42, ...)"
            ],
            "text/html": [
              "<style>#sk-container-id-1 {\n",
              "  /* Definition of color scheme common for light and dark mode */\n",
              "  --sklearn-color-text: #000;\n",
              "  --sklearn-color-text-muted: #666;\n",
              "  --sklearn-color-line: gray;\n",
              "  /* Definition of color scheme for unfitted estimators */\n",
              "  --sklearn-color-unfitted-level-0: #fff5e6;\n",
              "  --sklearn-color-unfitted-level-1: #f6e4d2;\n",
              "  --sklearn-color-unfitted-level-2: #ffe0b3;\n",
              "  --sklearn-color-unfitted-level-3: chocolate;\n",
              "  /* Definition of color scheme for fitted estimators */\n",
              "  --sklearn-color-fitted-level-0: #f0f8ff;\n",
              "  --sklearn-color-fitted-level-1: #d4ebff;\n",
              "  --sklearn-color-fitted-level-2: #b3dbfd;\n",
              "  --sklearn-color-fitted-level-3: cornflowerblue;\n",
              "\n",
              "  /* Specific color for light theme */\n",
              "  --sklearn-color-text-on-default-background: var(--sg-text-color, var(--theme-code-foreground, var(--jp-content-font-color1, black)));\n",
              "  --sklearn-color-background: var(--sg-background-color, var(--theme-background, var(--jp-layout-color0, white)));\n",
              "  --sklearn-color-border-box: var(--sg-text-color, var(--theme-code-foreground, var(--jp-content-font-color1, black)));\n",
              "  --sklearn-color-icon: #696969;\n",
              "\n",
              "  @media (prefers-color-scheme: dark) {\n",
              "    /* Redefinition of color scheme for dark theme */\n",
              "    --sklearn-color-text-on-default-background: var(--sg-text-color, var(--theme-code-foreground, var(--jp-content-font-color1, white)));\n",
              "    --sklearn-color-background: var(--sg-background-color, var(--theme-background, var(--jp-layout-color0, #111)));\n",
              "    --sklearn-color-border-box: var(--sg-text-color, var(--theme-code-foreground, var(--jp-content-font-color1, white)));\n",
              "    --sklearn-color-icon: #878787;\n",
              "  }\n",
              "}\n",
              "\n",
              "#sk-container-id-1 {\n",
              "  color: var(--sklearn-color-text);\n",
              "}\n",
              "\n",
              "#sk-container-id-1 pre {\n",
              "  padding: 0;\n",
              "}\n",
              "\n",
              "#sk-container-id-1 input.sk-hidden--visually {\n",
              "  border: 0;\n",
              "  clip: rect(1px 1px 1px 1px);\n",
              "  clip: rect(1px, 1px, 1px, 1px);\n",
              "  height: 1px;\n",
              "  margin: -1px;\n",
              "  overflow: hidden;\n",
              "  padding: 0;\n",
              "  position: absolute;\n",
              "  width: 1px;\n",
              "}\n",
              "\n",
              "#sk-container-id-1 div.sk-dashed-wrapped {\n",
              "  border: 1px dashed var(--sklearn-color-line);\n",
              "  margin: 0 0.4em 0.5em 0.4em;\n",
              "  box-sizing: border-box;\n",
              "  padding-bottom: 0.4em;\n",
              "  background-color: var(--sklearn-color-background);\n",
              "}\n",
              "\n",
              "#sk-container-id-1 div.sk-container {\n",
              "  /* jupyter's `normalize.less` sets `[hidden] { display: none; }`\n",
              "     but bootstrap.min.css set `[hidden] { display: none !important; }`\n",
              "     so we also need the `!important` here to be able to override the\n",
              "     default hidden behavior on the sphinx rendered scikit-learn.org.\n",
              "     See: https://github.com/scikit-learn/scikit-learn/issues/21755 */\n",
              "  display: inline-block !important;\n",
              "  position: relative;\n",
              "}\n",
              "\n",
              "#sk-container-id-1 div.sk-text-repr-fallback {\n",
              "  display: none;\n",
              "}\n",
              "\n",
              "div.sk-parallel-item,\n",
              "div.sk-serial,\n",
              "div.sk-item {\n",
              "  /* draw centered vertical line to link estimators */\n",
              "  background-image: linear-gradient(var(--sklearn-color-text-on-default-background), var(--sklearn-color-text-on-default-background));\n",
              "  background-size: 2px 100%;\n",
              "  background-repeat: no-repeat;\n",
              "  background-position: center center;\n",
              "}\n",
              "\n",
              "/* Parallel-specific style estimator block */\n",
              "\n",
              "#sk-container-id-1 div.sk-parallel-item::after {\n",
              "  content: \"\";\n",
              "  width: 100%;\n",
              "  border-bottom: 2px solid var(--sklearn-color-text-on-default-background);\n",
              "  flex-grow: 1;\n",
              "}\n",
              "\n",
              "#sk-container-id-1 div.sk-parallel {\n",
              "  display: flex;\n",
              "  align-items: stretch;\n",
              "  justify-content: center;\n",
              "  background-color: var(--sklearn-color-background);\n",
              "  position: relative;\n",
              "}\n",
              "\n",
              "#sk-container-id-1 div.sk-parallel-item {\n",
              "  display: flex;\n",
              "  flex-direction: column;\n",
              "}\n",
              "\n",
              "#sk-container-id-1 div.sk-parallel-item:first-child::after {\n",
              "  align-self: flex-end;\n",
              "  width: 50%;\n",
              "}\n",
              "\n",
              "#sk-container-id-1 div.sk-parallel-item:last-child::after {\n",
              "  align-self: flex-start;\n",
              "  width: 50%;\n",
              "}\n",
              "\n",
              "#sk-container-id-1 div.sk-parallel-item:only-child::after {\n",
              "  width: 0;\n",
              "}\n",
              "\n",
              "/* Serial-specific style estimator block */\n",
              "\n",
              "#sk-container-id-1 div.sk-serial {\n",
              "  display: flex;\n",
              "  flex-direction: column;\n",
              "  align-items: center;\n",
              "  background-color: var(--sklearn-color-background);\n",
              "  padding-right: 1em;\n",
              "  padding-left: 1em;\n",
              "}\n",
              "\n",
              "\n",
              "/* Toggleable style: style used for estimator/Pipeline/ColumnTransformer box that is\n",
              "clickable and can be expanded/collapsed.\n",
              "- Pipeline and ColumnTransformer use this feature and define the default style\n",
              "- Estimators will overwrite some part of the style using the `sk-estimator` class\n",
              "*/\n",
              "\n",
              "/* Pipeline and ColumnTransformer style (default) */\n",
              "\n",
              "#sk-container-id-1 div.sk-toggleable {\n",
              "  /* Default theme specific background. It is overwritten whether we have a\n",
              "  specific estimator or a Pipeline/ColumnTransformer */\n",
              "  background-color: var(--sklearn-color-background);\n",
              "}\n",
              "\n",
              "/* Toggleable label */\n",
              "#sk-container-id-1 label.sk-toggleable__label {\n",
              "  cursor: pointer;\n",
              "  display: flex;\n",
              "  width: 100%;\n",
              "  margin-bottom: 0;\n",
              "  padding: 0.5em;\n",
              "  box-sizing: border-box;\n",
              "  text-align: center;\n",
              "  align-items: start;\n",
              "  justify-content: space-between;\n",
              "  gap: 0.5em;\n",
              "}\n",
              "\n",
              "#sk-container-id-1 label.sk-toggleable__label .caption {\n",
              "  font-size: 0.6rem;\n",
              "  font-weight: lighter;\n",
              "  color: var(--sklearn-color-text-muted);\n",
              "}\n",
              "\n",
              "#sk-container-id-1 label.sk-toggleable__label-arrow:before {\n",
              "  /* Arrow on the left of the label */\n",
              "  content: \"▸\";\n",
              "  float: left;\n",
              "  margin-right: 0.25em;\n",
              "  color: var(--sklearn-color-icon);\n",
              "}\n",
              "\n",
              "#sk-container-id-1 label.sk-toggleable__label-arrow:hover:before {\n",
              "  color: var(--sklearn-color-text);\n",
              "}\n",
              "\n",
              "/* Toggleable content - dropdown */\n",
              "\n",
              "#sk-container-id-1 div.sk-toggleable__content {\n",
              "  max-height: 0;\n",
              "  max-width: 0;\n",
              "  overflow: hidden;\n",
              "  text-align: left;\n",
              "  /* unfitted */\n",
              "  background-color: var(--sklearn-color-unfitted-level-0);\n",
              "}\n",
              "\n",
              "#sk-container-id-1 div.sk-toggleable__content.fitted {\n",
              "  /* fitted */\n",
              "  background-color: var(--sklearn-color-fitted-level-0);\n",
              "}\n",
              "\n",
              "#sk-container-id-1 div.sk-toggleable__content pre {\n",
              "  margin: 0.2em;\n",
              "  border-radius: 0.25em;\n",
              "  color: var(--sklearn-color-text);\n",
              "  /* unfitted */\n",
              "  background-color: var(--sklearn-color-unfitted-level-0);\n",
              "}\n",
              "\n",
              "#sk-container-id-1 div.sk-toggleable__content.fitted pre {\n",
              "  /* unfitted */\n",
              "  background-color: var(--sklearn-color-fitted-level-0);\n",
              "}\n",
              "\n",
              "#sk-container-id-1 input.sk-toggleable__control:checked~div.sk-toggleable__content {\n",
              "  /* Expand drop-down */\n",
              "  max-height: 200px;\n",
              "  max-width: 100%;\n",
              "  overflow: auto;\n",
              "}\n",
              "\n",
              "#sk-container-id-1 input.sk-toggleable__control:checked~label.sk-toggleable__label-arrow:before {\n",
              "  content: \"▾\";\n",
              "}\n",
              "\n",
              "/* Pipeline/ColumnTransformer-specific style */\n",
              "\n",
              "#sk-container-id-1 div.sk-label input.sk-toggleable__control:checked~label.sk-toggleable__label {\n",
              "  color: var(--sklearn-color-text);\n",
              "  background-color: var(--sklearn-color-unfitted-level-2);\n",
              "}\n",
              "\n",
              "#sk-container-id-1 div.sk-label.fitted input.sk-toggleable__control:checked~label.sk-toggleable__label {\n",
              "  background-color: var(--sklearn-color-fitted-level-2);\n",
              "}\n",
              "\n",
              "/* Estimator-specific style */\n",
              "\n",
              "/* Colorize estimator box */\n",
              "#sk-container-id-1 div.sk-estimator input.sk-toggleable__control:checked~label.sk-toggleable__label {\n",
              "  /* unfitted */\n",
              "  background-color: var(--sklearn-color-unfitted-level-2);\n",
              "}\n",
              "\n",
              "#sk-container-id-1 div.sk-estimator.fitted input.sk-toggleable__control:checked~label.sk-toggleable__label {\n",
              "  /* fitted */\n",
              "  background-color: var(--sklearn-color-fitted-level-2);\n",
              "}\n",
              "\n",
              "#sk-container-id-1 div.sk-label label.sk-toggleable__label,\n",
              "#sk-container-id-1 div.sk-label label {\n",
              "  /* The background is the default theme color */\n",
              "  color: var(--sklearn-color-text-on-default-background);\n",
              "}\n",
              "\n",
              "/* On hover, darken the color of the background */\n",
              "#sk-container-id-1 div.sk-label:hover label.sk-toggleable__label {\n",
              "  color: var(--sklearn-color-text);\n",
              "  background-color: var(--sklearn-color-unfitted-level-2);\n",
              "}\n",
              "\n",
              "/* Label box, darken color on hover, fitted */\n",
              "#sk-container-id-1 div.sk-label.fitted:hover label.sk-toggleable__label.fitted {\n",
              "  color: var(--sklearn-color-text);\n",
              "  background-color: var(--sklearn-color-fitted-level-2);\n",
              "}\n",
              "\n",
              "/* Estimator label */\n",
              "\n",
              "#sk-container-id-1 div.sk-label label {\n",
              "  font-family: monospace;\n",
              "  font-weight: bold;\n",
              "  display: inline-block;\n",
              "  line-height: 1.2em;\n",
              "}\n",
              "\n",
              "#sk-container-id-1 div.sk-label-container {\n",
              "  text-align: center;\n",
              "}\n",
              "\n",
              "/* Estimator-specific */\n",
              "#sk-container-id-1 div.sk-estimator {\n",
              "  font-family: monospace;\n",
              "  border: 1px dotted var(--sklearn-color-border-box);\n",
              "  border-radius: 0.25em;\n",
              "  box-sizing: border-box;\n",
              "  margin-bottom: 0.5em;\n",
              "  /* unfitted */\n",
              "  background-color: var(--sklearn-color-unfitted-level-0);\n",
              "}\n",
              "\n",
              "#sk-container-id-1 div.sk-estimator.fitted {\n",
              "  /* fitted */\n",
              "  background-color: var(--sklearn-color-fitted-level-0);\n",
              "}\n",
              "\n",
              "/* on hover */\n",
              "#sk-container-id-1 div.sk-estimator:hover {\n",
              "  /* unfitted */\n",
              "  background-color: var(--sklearn-color-unfitted-level-2);\n",
              "}\n",
              "\n",
              "#sk-container-id-1 div.sk-estimator.fitted:hover {\n",
              "  /* fitted */\n",
              "  background-color: var(--sklearn-color-fitted-level-2);\n",
              "}\n",
              "\n",
              "/* Specification for estimator info (e.g. \"i\" and \"?\") */\n",
              "\n",
              "/* Common style for \"i\" and \"?\" */\n",
              "\n",
              ".sk-estimator-doc-link,\n",
              "a:link.sk-estimator-doc-link,\n",
              "a:visited.sk-estimator-doc-link {\n",
              "  float: right;\n",
              "  font-size: smaller;\n",
              "  line-height: 1em;\n",
              "  font-family: monospace;\n",
              "  background-color: var(--sklearn-color-background);\n",
              "  border-radius: 1em;\n",
              "  height: 1em;\n",
              "  width: 1em;\n",
              "  text-decoration: none !important;\n",
              "  margin-left: 0.5em;\n",
              "  text-align: center;\n",
              "  /* unfitted */\n",
              "  border: var(--sklearn-color-unfitted-level-1) 1pt solid;\n",
              "  color: var(--sklearn-color-unfitted-level-1);\n",
              "}\n",
              "\n",
              ".sk-estimator-doc-link.fitted,\n",
              "a:link.sk-estimator-doc-link.fitted,\n",
              "a:visited.sk-estimator-doc-link.fitted {\n",
              "  /* fitted */\n",
              "  border: var(--sklearn-color-fitted-level-1) 1pt solid;\n",
              "  color: var(--sklearn-color-fitted-level-1);\n",
              "}\n",
              "\n",
              "/* On hover */\n",
              "div.sk-estimator:hover .sk-estimator-doc-link:hover,\n",
              ".sk-estimator-doc-link:hover,\n",
              "div.sk-label-container:hover .sk-estimator-doc-link:hover,\n",
              ".sk-estimator-doc-link:hover {\n",
              "  /* unfitted */\n",
              "  background-color: var(--sklearn-color-unfitted-level-3);\n",
              "  color: var(--sklearn-color-background);\n",
              "  text-decoration: none;\n",
              "}\n",
              "\n",
              "div.sk-estimator.fitted:hover .sk-estimator-doc-link.fitted:hover,\n",
              ".sk-estimator-doc-link.fitted:hover,\n",
              "div.sk-label-container:hover .sk-estimator-doc-link.fitted:hover,\n",
              ".sk-estimator-doc-link.fitted:hover {\n",
              "  /* fitted */\n",
              "  background-color: var(--sklearn-color-fitted-level-3);\n",
              "  color: var(--sklearn-color-background);\n",
              "  text-decoration: none;\n",
              "}\n",
              "\n",
              "/* Span, style for the box shown on hovering the info icon */\n",
              ".sk-estimator-doc-link span {\n",
              "  display: none;\n",
              "  z-index: 9999;\n",
              "  position: relative;\n",
              "  font-weight: normal;\n",
              "  right: .2ex;\n",
              "  padding: .5ex;\n",
              "  margin: .5ex;\n",
              "  width: min-content;\n",
              "  min-width: 20ex;\n",
              "  max-width: 50ex;\n",
              "  color: var(--sklearn-color-text);\n",
              "  box-shadow: 2pt 2pt 4pt #999;\n",
              "  /* unfitted */\n",
              "  background: var(--sklearn-color-unfitted-level-0);\n",
              "  border: .5pt solid var(--sklearn-color-unfitted-level-3);\n",
              "}\n",
              "\n",
              ".sk-estimator-doc-link.fitted span {\n",
              "  /* fitted */\n",
              "  background: var(--sklearn-color-fitted-level-0);\n",
              "  border: var(--sklearn-color-fitted-level-3);\n",
              "}\n",
              "\n",
              ".sk-estimator-doc-link:hover span {\n",
              "  display: block;\n",
              "}\n",
              "\n",
              "/* \"?\"-specific style due to the `<a>` HTML tag */\n",
              "\n",
              "#sk-container-id-1 a.estimator_doc_link {\n",
              "  float: right;\n",
              "  font-size: 1rem;\n",
              "  line-height: 1em;\n",
              "  font-family: monospace;\n",
              "  background-color: var(--sklearn-color-background);\n",
              "  border-radius: 1rem;\n",
              "  height: 1rem;\n",
              "  width: 1rem;\n",
              "  text-decoration: none;\n",
              "  /* unfitted */\n",
              "  color: var(--sklearn-color-unfitted-level-1);\n",
              "  border: var(--sklearn-color-unfitted-level-1) 1pt solid;\n",
              "}\n",
              "\n",
              "#sk-container-id-1 a.estimator_doc_link.fitted {\n",
              "  /* fitted */\n",
              "  border: var(--sklearn-color-fitted-level-1) 1pt solid;\n",
              "  color: var(--sklearn-color-fitted-level-1);\n",
              "}\n",
              "\n",
              "/* On hover */\n",
              "#sk-container-id-1 a.estimator_doc_link:hover {\n",
              "  /* unfitted */\n",
              "  background-color: var(--sklearn-color-unfitted-level-3);\n",
              "  color: var(--sklearn-color-background);\n",
              "  text-decoration: none;\n",
              "}\n",
              "\n",
              "#sk-container-id-1 a.estimator_doc_link.fitted:hover {\n",
              "  /* fitted */\n",
              "  background-color: var(--sklearn-color-fitted-level-3);\n",
              "}\n",
              "</style><div id=\"sk-container-id-1\" class=\"sk-top-container\"><div class=\"sk-text-repr-fallback\"><pre>XGBClassifier(base_score=None, booster=None, callbacks=None,\n",
              "              colsample_bylevel=None, colsample_bynode=None,\n",
              "              colsample_bytree=None, device=None, early_stopping_rounds=None,\n",
              "              enable_categorical=False, eval_metric=None, feature_types=None,\n",
              "              gamma=None, grow_policy=None, importance_type=None,\n",
              "              interaction_constraints=None, learning_rate=None, max_bin=None,\n",
              "              max_cat_threshold=None, max_cat_to_onehot=None,\n",
              "              max_delta_step=None, max_depth=None, max_leaves=None,\n",
              "              min_child_weight=None, missing=nan, monotone_constraints=None,\n",
              "              multi_strategy=None, n_estimators=None, n_jobs=None,\n",
              "              num_parallel_tree=None, random_state=42, ...)</pre><b>In a Jupyter environment, please rerun this cell to show the HTML representation or trust the notebook. <br />On GitHub, the HTML representation is unable to render, please try loading this page with nbviewer.org.</b></div><div class=\"sk-container\" hidden><div class=\"sk-item\"><div class=\"sk-estimator fitted sk-toggleable\"><input class=\"sk-toggleable__control sk-hidden--visually\" id=\"sk-estimator-id-1\" type=\"checkbox\" checked><label for=\"sk-estimator-id-1\" class=\"sk-toggleable__label fitted sk-toggleable__label-arrow\"><div><div>XGBClassifier</div></div><div><span class=\"sk-estimator-doc-link fitted\">i<span>Fitted</span></span></div></label><div class=\"sk-toggleable__content fitted\"><pre>XGBClassifier(base_score=None, booster=None, callbacks=None,\n",
              "              colsample_bylevel=None, colsample_bynode=None,\n",
              "              colsample_bytree=None, device=None, early_stopping_rounds=None,\n",
              "              enable_categorical=False, eval_metric=None, feature_types=None,\n",
              "              gamma=None, grow_policy=None, importance_type=None,\n",
              "              interaction_constraints=None, learning_rate=None, max_bin=None,\n",
              "              max_cat_threshold=None, max_cat_to_onehot=None,\n",
              "              max_delta_step=None, max_depth=None, max_leaves=None,\n",
              "              min_child_weight=None, missing=nan, monotone_constraints=None,\n",
              "              multi_strategy=None, n_estimators=None, n_jobs=None,\n",
              "              num_parallel_tree=None, random_state=42, ...)</pre></div> </div></div></div></div>"
            ]
          },
          "metadata": {},
          "execution_count": 75
        }
      ]
    },
    {
      "cell_type": "code",
      "source": [
        "from sklearn.metrics import classification_report, confusion_matrix\n",
        "\n",
        "# Make predictions\n",
        "y_pred = model.predict(X_test)\n",
        "\n",
        "# Print the classification report\n",
        "print(\"Classification Report:\")\n",
        "print(classification_report(y_test, y_pred))\n",
        "\n",
        "# Print the confusion matrix\n",
        "print(\"Confusion Matrix:\")\n",
        "print(confusion_matrix(y_test, y_pred))"
      ],
      "metadata": {
        "colab": {
          "base_uri": "https://localhost:8080/"
        },
        "id": "goor-fbjgwvk",
        "outputId": "1846023c-486b-4ef1-a088-f957bed988df"
      },
      "execution_count": null,
      "outputs": [
        {
          "output_type": "stream",
          "name": "stdout",
          "text": [
            "Classification Report:\n",
            "              precision    recall  f1-score   support\n",
            "\n",
            "           0       0.00      0.00      0.00       205\n",
            "           1       0.18      0.98      0.30        46\n",
            "\n",
            "    accuracy                           0.18       251\n",
            "   macro avg       0.09      0.49      0.15       251\n",
            "weighted avg       0.03      0.18      0.06       251\n",
            "\n",
            "Confusion Matrix:\n",
            "[[  0 205]\n",
            " [  1  45]]\n"
          ]
        }
      ]
    },
    {
      "cell_type": "code",
      "source": [
        "from imblearn.over_sampling import SMOTE\n",
        "\n",
        "# Apply SMOTE to balance the classes in the training data\n",
        "smote = SMOTE(sampling_strategy='auto', random_state=42)\n",
        "X_train_resampled, y_train_resampled = smote.fit_resample(X_train, y_train)\n",
        "\n",
        "# Check the new class distribution\n",
        "print(f\"New class distribution: {y_train_resampled.value_counts()}\")"
      ],
      "metadata": {
        "colab": {
          "base_uri": "https://localhost:8080/"
        },
        "id": "v905jTAihNIE",
        "outputId": "df1cc9df-4a9a-4b07-dd1c-2b21975c0c20"
      },
      "execution_count": null,
      "outputs": [
        {
          "output_type": "stream",
          "name": "stdout",
          "text": [
            "New class distribution: label\n",
            "0    795\n",
            "1    795\n",
            "Name: count, dtype: int64\n"
          ]
        }
      ]
    },
    {
      "cell_type": "code",
      "source": [
        "from sklearn.model_selection import GridSearchCV\n",
        "from xgboost import XGBClassifier\n",
        "\n",
        "# Define the model and parameter grid\n",
        "model = XGBClassifier()\n",
        "\n",
        "param_grid = {\n",
        "    'n_estimators': [100, 200],\n",
        "    'max_depth': [3, 5],\n",
        "    'learning_rate': [0.01, 0.1],\n",
        "    'scale_pos_weight': [1, 2, 5, 10]  # Tune scale_pos_weight to help with class imbalance\n",
        "}\n",
        "\n",
        "# Set up GridSearchCV to find the best parameters\n",
        "grid_search = GridSearchCV(estimator=model, param_grid=param_grid, cv=3, n_jobs=-1, verbose=2)\n",
        "\n",
        "# Fit the grid search to the resampled data\n",
        "grid_search.fit(X_train_resampled, y_train_resampled)\n",
        "\n",
        "# Print the best parameters and best score\n",
        "print(\"Best parameters:\", grid_search.best_params_)\n",
        "print(\"Best score:\", grid_search.best_score_)"
      ],
      "metadata": {
        "colab": {
          "base_uri": "https://localhost:8080/"
        },
        "id": "e71ptXsPhScn",
        "outputId": "10da3458-965e-4124-d36b-4a4426cac629"
      },
      "execution_count": null,
      "outputs": [
        {
          "output_type": "stream",
          "name": "stdout",
          "text": [
            "Fitting 3 folds for each of 32 candidates, totalling 96 fits\n",
            "Best parameters: {'learning_rate': 0.1, 'max_depth': 3, 'n_estimators': 100, 'scale_pos_weight': 1}\n",
            "Best score: 0.9987421383647798\n"
          ]
        }
      ]
    },
    {
      "cell_type": "code",
      "source": [
        "from sklearn.metrics import classification_report, confusion_matrix\n",
        "\n",
        "# Make predictions on the test set\n",
        "y_pred = grid_search.best_estimator_.predict(X_test)\n",
        "\n",
        "# Print classification report and confusion matrix\n",
        "print(\"Classification Report:\")\n",
        "print(classification_report(y_test, y_pred))\n",
        "\n",
        "print(\"Confusion Matrix:\")\n",
        "print(confusion_matrix(y_test, y_pred))"
      ],
      "metadata": {
        "colab": {
          "base_uri": "https://localhost:8080/"
        },
        "id": "qfKiQV4shYe9",
        "outputId": "d3e57f96-d927-4d1d-e85c-a228356d68c2"
      },
      "execution_count": null,
      "outputs": [
        {
          "output_type": "stream",
          "name": "stdout",
          "text": [
            "Classification Report:\n",
            "              precision    recall  f1-score   support\n",
            "\n",
            "           0       0.00      0.00      0.00       205\n",
            "           1       0.18      1.00      0.31        46\n",
            "\n",
            "    accuracy                           0.18       251\n",
            "   macro avg       0.09      0.50      0.15       251\n",
            "weighted avg       0.03      0.18      0.06       251\n",
            "\n",
            "Confusion Matrix:\n",
            "[[  0 205]\n",
            " [  0  46]]\n"
          ]
        },
        {
          "output_type": "stream",
          "name": "stderr",
          "text": [
            "/usr/local/lib/python3.11/dist-packages/sklearn/metrics/_classification.py:1565: UndefinedMetricWarning: Precision is ill-defined and being set to 0.0 in labels with no predicted samples. Use `zero_division` parameter to control this behavior.\n",
            "  _warn_prf(average, modifier, f\"{metric.capitalize()} is\", len(result))\n",
            "/usr/local/lib/python3.11/dist-packages/sklearn/metrics/_classification.py:1565: UndefinedMetricWarning: Precision is ill-defined and being set to 0.0 in labels with no predicted samples. Use `zero_division` parameter to control this behavior.\n",
            "  _warn_prf(average, modifier, f\"{metric.capitalize()} is\", len(result))\n",
            "/usr/local/lib/python3.11/dist-packages/sklearn/metrics/_classification.py:1565: UndefinedMetricWarning: Precision is ill-defined and being set to 0.0 in labels with no predicted samples. Use `zero_division` parameter to control this behavior.\n",
            "  _warn_prf(average, modifier, f\"{metric.capitalize()} is\", len(result))\n"
          ]
        }
      ]
    },
    {
      "cell_type": "code",
      "source": [
        "from sklearn.metrics import precision_recall_curve, auc\n",
        "import matplotlib.pyplot as plt\n",
        "\n",
        "# Get the prediction probabilities for class 1\n",
        "y_pred_proba = grid_search.best_estimator_.predict_proba(X_test)[:, 1]\n",
        "\n",
        "# Calculate precision and recall values\n",
        "precision, recall, thresholds = precision_recall_curve(y_test, y_pred_proba)\n",
        "\n",
        "# Plot Precision-Recall curve\n",
        "plt.figure(figsize=(8, 6))\n",
        "plt.plot(recall, precision, color='blue', label='Precision-Recall curve')\n",
        "plt.fill_between(recall, precision, color='blue', alpha=0.2)\n",
        "plt.xlabel('Recall')\n",
        "plt.ylabel('Precision')\n",
        "plt.title('Precision-Recall Curve')\n",
        "plt.legend(loc='best')\n",
        "plt.show()\n",
        "\n",
        "# Calculate AUC\n",
        "pr_auc = auc(recall, precision)\n",
        "print(f\"Precision-Recall AUC: {pr_auc:.2f}\")"
      ],
      "metadata": {
        "colab": {
          "base_uri": "https://localhost:8080/",
          "height": 581
        },
        "id": "7gkR0Tnuhdsr",
        "outputId": "c9c3bc81-6a1a-49ab-c8cb-e953f06ca728"
      },
      "execution_count": null,
      "outputs": [
        {
          "output_type": "display_data",
          "data": {
            "text/plain": [
              "<Figure size 800x600 with 1 Axes>"
            ],
            "image/png": "[encoded data removed]"
          },
          "metadata": {}
        },
        {
          "output_type": "stream",
          "name": "stdout",
          "text": [
            "Precision-Recall AUC: 0.19\n"
          ]
        }
      ]
    },
    {
      "cell_type": "code",
      "source": [
        "from imblearn.under_sampling import RandomUnderSampler\n",
        "\n",
        "# Apply random undersampling\n",
        "under_sampler = RandomUnderSampler(sampling_strategy='auto', random_state=42)\n",
        "X_train_under, y_train_under = under_sampler.fit_resample(X_train, y_train)\n",
        "\n",
        "# Fit the model to the undersampled data\n",
        "grid_search.fit(X_train_under, y_train_under)\n",
        "\n",
        "# Print the best parameters and best score after undersampling\n",
        "print(\"Best parameters after undersampling:\", grid_search.best_params_)\n",
        "print(\"Best score after undersampling:\", grid_search.best_score_)"
      ],
      "metadata": {
        "colab": {
          "base_uri": "https://localhost:8080/"
        },
        "id": "Vj_X0RfUhinY",
        "outputId": "af061eca-ff9c-4adb-e1e0-eab099f2ee7d"
      },
      "execution_count": null,
      "outputs": [
        {
          "output_type": "stream",
          "name": "stdout",
          "text": [
            "Fitting 3 folds for each of 32 candidates, totalling 96 fits\n",
            "Best parameters after undersampling: {'learning_rate': 0.01, 'max_depth': 3, 'n_estimators': 100, 'scale_pos_weight': 5}\n",
            "Best score after undersampling: 0.9928057553956835\n"
          ]
        }
      ]
    },
    {
      "cell_type": "code",
      "source": [
        "from sklearn.metrics import classification_report, confusion_matrix\n",
        "\n",
        "# Predict on the test set\n",
        "y_pred = grid_search.best_estimator_.predict(X_test)\n",
        "\n",
        "# Print classification report\n",
        "print(\"Classification Report:\")\n",
        "print(classification_report(y_test, y_pred))\n",
        "\n",
        "# Print confusion matrix\n",
        "print(\"Confusion Matrix:\")\n",
        "print(confusion_matrix(y_test, y_pred))\n"
      ],
      "metadata": {
        "colab": {
          "base_uri": "https://localhost:8080/"
        },
        "id": "Qybv_JQwhyhL",
        "outputId": "4d8a522b-e4fc-44f6-f21d-c117b468f5c3"
      },
      "execution_count": null,
      "outputs": [
        {
          "output_type": "stream",
          "name": "stdout",
          "text": [
            "Classification Report:\n",
            "              precision    recall  f1-score   support\n",
            "\n",
            "           0       0.82      1.00      0.90       205\n",
            "           1       0.00      0.00      0.00        46\n",
            "\n",
            "    accuracy                           0.81       251\n",
            "   macro avg       0.41      0.50      0.45       251\n",
            "weighted avg       0.67      0.81      0.73       251\n",
            "\n",
            "Confusion Matrix:\n",
            "[[204   1]\n",
            " [ 46   0]]\n"
          ]
        }
      ]
    },
    {
      "cell_type": "code",
      "source": [
        "from sklearn.metrics import precision_recall_curve, auc\n",
        "import matplotlib.pyplot as plt\n",
        "\n",
        "# Get the prediction probabilities for class 1 (positive class)\n",
        "y_pred_proba = grid_search.best_estimator_.predict_proba(X_test)[:, 1]\n",
        "\n",
        "# Calculate precision and recall values\n",
        "precision, recall, thresholds = precision_recall_curve(y_test, y_pred_proba)\n",
        "\n",
        "# Plot Precision-Recall curve\n",
        "plt.figure(figsize=(8, 6))\n",
        "plt.plot(recall, precision, color='blue', label='Precision-Recall curve')\n",
        "plt.fill_between(recall, precision, color='blue', alpha=0.2)\n",
        "plt.xlabel('Recall')\n",
        "plt.ylabel('Precision')\n",
        "plt.title('Precision-Recall Curve')\n",
        "plt.legend(loc='best')\n",
        "plt.show()\n",
        "\n",
        "# Calculate AUC\n",
        "pr_auc = auc(recall, precision)\n",
        "print(f\"Precision-Recall AUC: {pr_auc:.2f}\")"
      ],
      "metadata": {
        "colab": {
          "base_uri": "https://localhost:8080/",
          "height": 581
        },
        "id": "1qWn3hZxh-j3",
        "outputId": "8ab309a1-a12a-460f-80f1-9820909d144e"
      },
      "execution_count": null,
      "outputs": [
        {
          "output_type": "display_data",
          "data": {
            "text/plain": [
              "<Figure size 800x600 with 1 Axes>"
            ],
            "image/png": "[encoded data removed]"
          },
          "metadata": {}
        },
        {
          "output_type": "stream",
          "name": "stdout",
          "text": [
            "Precision-Recall AUC: 0.09\n"
          ]
        }
      ]
    },
    {
      "cell_type": "code",
      "source": [
        "from imblearn.over_sampling import SMOTE\n",
        "\n",
        "# Apply SMOTE to oversample the minority class\n",
        "smote = SMOTE(sampling_strategy='auto', random_state=42)\n",
        "X_train_res, y_train_res = smote.fit_resample(X_train, y_train)\n",
        "\n",
        "# Fit the model with the resampled dataset\n",
        "model = XGBClassifier(learning_rate=0.01, max_depth=3, n_estimators=100, scale_pos_weight=5)\n",
        "model.fit(X_train_res, y_train_res)\n",
        "\n",
        "# Predict and evaluate the model\n",
        "y_pred_res = model.predict(X_test)\n",
        "print(classification_report(y_test, y_pred_res))\n",
        "print(confusion_matrix(y_test, y_pred_res))"
      ],
      "metadata": {
        "colab": {
          "base_uri": "https://localhost:8080/"
        },
        "id": "g2RFPvfkiFzz",
        "outputId": "d3d69e00-1e44-4478-b91d-25da8455099b"
      },
      "execution_count": null,
      "outputs": [
        {
          "output_type": "stream",
          "name": "stdout",
          "text": [
            "              precision    recall  f1-score   support\n",
            "\n",
            "           0       0.82      1.00      0.90       205\n",
            "           1       0.00      0.00      0.00        46\n",
            "\n",
            "    accuracy                           0.81       251\n",
            "   macro avg       0.41      0.50      0.45       251\n",
            "weighted avg       0.67      0.81      0.73       251\n",
            "\n",
            "[[204   1]\n",
            " [ 46   0]]\n"
          ]
        }
      ]
    },
    {
      "cell_type": "code",
      "source": [
        "# Get predicted probabilities\n",
        "y_pred_proba = model.predict_proba(X_test)[:, 1]\n",
        "\n",
        "# Set a lower threshold for class 1 (e.g., 0.3)\n",
        "threshold = 0.3\n",
        "y_pred_adjusted = (y_pred_proba >= threshold).astype(int)\n",
        "\n",
        "# Evaluate the new predictions\n",
        "print(classification_report(y_test, y_pred_adjusted))\n",
        "print(confusion_matrix(y_test, y_pred_adjusted))"
      ],
      "metadata": {
        "colab": {
          "base_uri": "https://localhost:8080/"
        },
        "id": "QX3WBQAuiFkt",
        "outputId": "06366138-d0e2-48f7-83b2-408ae4dd87e1"
      },
      "execution_count": null,
      "outputs": [
        {
          "output_type": "stream",
          "name": "stdout",
          "text": [
            "              precision    recall  f1-score   support\n",
            "\n",
            "           0       0.82      1.00      0.90       205\n",
            "           1       0.00      0.00      0.00        46\n",
            "\n",
            "    accuracy                           0.81       251\n",
            "   macro avg       0.41      0.50      0.45       251\n",
            "weighted avg       0.67      0.81      0.73       251\n",
            "\n",
            "[[204   1]\n",
            " [ 46   0]]\n"
          ]
        }
      ]
    },
    {
      "cell_type": "code",
      "source": [
        "from imblearn.over_sampling import SMOTE\n",
        "from sklearn.model_selection import GridSearchCV\n",
        "from xgboost import XGBClassifier\n",
        "from sklearn.metrics import classification_report, confusion_matrix\n",
        "\n",
        "# Apply SMOTE to oversample the minority class\n",
        "smote = SMOTE(sampling_strategy='auto', random_state=42)\n",
        "X_train_res, y_train_res = smote.fit_resample(X_train, y_train)\n",
        "\n",
        "# Define the model\n",
        "model = XGBClassifier(random_state=42)\n",
        "\n",
        "# Define parameter grid for tuning\n",
        "param_grid = {\n",
        "    'n_estimators': [100, 200],\n",
        "    'max_depth': [3, 5],\n",
        "    'learning_rate': [0.01, 0.1],\n",
        "    'scale_pos_weight': [1, 2, 5, 10]  # Adjust to address class imbalance\n",
        "}\n",
        "\n",
        "# Initialize GridSearchCV\n",
        "grid_search = GridSearchCV(estimator=model, param_grid=param_grid, cv=3, n_jobs=-1, verbose=2)\n",
        "\n",
        "# Fit the grid search to the data\n",
        "grid_search.fit(X_train_res, y_train_res)\n",
        "\n",
        "# Print the best parameters and best score\n",
        "print(\"Best parameters after SMOTE and undersampling:\", grid_search.best_params_)\n",
        "print(\"Best score after SMOTE and undersampling:\", grid_search.best_score_)\n",
        "\n",
        "# Evaluate the final model on the test set\n",
        "best_model = grid_search.best_estimator_\n",
        "y_pred = best_model.predict(X_test)\n",
        "\n",
        "# Print classification report and confusion matrix\n",
        "print(\"Classification Report:\")\n",
        "print(classification_report(y_test, y_pred))\n",
        "print(\"Confusion Matrix:\")\n",
        "print(confusion_matrix(y_test, y_pred))"
      ],
      "metadata": {
        "colab": {
          "base_uri": "https://localhost:8080/"
        },
        "id": "4WIZWN47iL5-",
        "outputId": "c8f634f6-2690-48cc-cc7b-e5ef9ecdab9c"
      },
      "execution_count": null,
      "outputs": [
        {
          "output_type": "stream",
          "name": "stdout",
          "text": [
            "Fitting 3 folds for each of 32 candidates, totalling 96 fits\n",
            "Best parameters after SMOTE and undersampling: {'learning_rate': 0.1, 'max_depth': 3, 'n_estimators': 100, 'scale_pos_weight': 1}\n",
            "Best score after SMOTE and undersampling: 0.9987421383647798\n",
            "Classification Report:\n",
            "              precision    recall  f1-score   support\n",
            "\n",
            "           0       0.00      0.00      0.00       205\n",
            "           1       0.18      1.00      0.31        46\n",
            "\n",
            "    accuracy                           0.18       251\n",
            "   macro avg       0.09      0.50      0.15       251\n",
            "weighted avg       0.03      0.18      0.06       251\n",
            "\n",
            "Confusion Matrix:\n",
            "[[  0 205]\n",
            " [  0  46]]\n"
          ]
        },
        {
          "output_type": "stream",
          "name": "stderr",
          "text": [
            "/usr/local/lib/python3.11/dist-packages/sklearn/metrics/_classification.py:1565: UndefinedMetricWarning: Precision is ill-defined and being set to 0.0 in labels with no predicted samples. Use `zero_division` parameter to control this behavior.\n",
            "  _warn_prf(average, modifier, f\"{metric.capitalize()} is\", len(result))\n",
            "/usr/local/lib/python3.11/dist-packages/sklearn/metrics/_classification.py:1565: UndefinedMetricWarning: Precision is ill-defined and being set to 0.0 in labels with no predicted samples. Use `zero_division` parameter to control this behavior.\n",
            "  _warn_prf(average, modifier, f\"{metric.capitalize()} is\", len(result))\n",
            "/usr/local/lib/python3.11/dist-packages/sklearn/metrics/_classification.py:1565: UndefinedMetricWarning: Precision is ill-defined and being set to 0.0 in labels with no predicted samples. Use `zero_division` parameter to control this behavior.\n",
            "  _warn_prf(average, modifier, f\"{metric.capitalize()} is\", len(result))\n"
          ]
        }
      ]
    }
  ]
}